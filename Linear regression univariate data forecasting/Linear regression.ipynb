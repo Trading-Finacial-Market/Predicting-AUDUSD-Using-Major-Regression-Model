{
 "cells": [
  {
   "cell_type": "code",
   "execution_count": 2,
   "metadata": {},
   "outputs": [],
   "source": [
    "import pandas as pd\n",
    "import numpy as np\n",
    "import time\n",
    "from sklearn.linear_model import LinearRegression\n",
    "from sklearn.model_selection import RepeatedKFold\n",
    "from sklearn.model_selection import RandomizedSearchCV\n",
    "from sklearn import preprocessing\n",
    "import ray\n",
    "import matplotlib as plt\n",
    "from matplotlib import pyplot\n",
    "import seaborn as sns\n",
    "import pickle\n",
    "%matplotlib inline"
   ]
  },
  {
   "cell_type": "code",
   "execution_count": 3,
   "metadata": {},
   "outputs": [
    {
     "data": {
      "text/html": [
       "<div>\n",
       "<style scoped>\n",
       "    .dataframe tbody tr th:only-of-type {\n",
       "        vertical-align: middle;\n",
       "    }\n",
       "\n",
       "    .dataframe tbody tr th {\n",
       "        vertical-align: top;\n",
       "    }\n",
       "\n",
       "    .dataframe thead th {\n",
       "        text-align: right;\n",
       "    }\n",
       "</style>\n",
       "<table border=\"1\" class=\"dataframe\">\n",
       "  <thead>\n",
       "    <tr style=\"text-align: right;\">\n",
       "      <th></th>\n",
       "      <th>Gmt time</th>\n",
       "      <th>Open</th>\n",
       "      <th>High</th>\n",
       "      <th>Low</th>\n",
       "      <th>Close</th>\n",
       "      <th>Volume</th>\n",
       "    </tr>\n",
       "  </thead>\n",
       "  <tbody>\n",
       "    <tr>\n",
       "      <th>0</th>\n",
       "      <td>03.09.2007 00:00:00.000</td>\n",
       "      <td>0.82127</td>\n",
       "      <td>0.82207</td>\n",
       "      <td>0.82057</td>\n",
       "      <td>0.82157</td>\n",
       "      <td>184.95</td>\n",
       "    </tr>\n",
       "    <tr>\n",
       "      <th>1</th>\n",
       "      <td>03.09.2007 01:00:00.000</td>\n",
       "      <td>0.82147</td>\n",
       "      <td>0.82287</td>\n",
       "      <td>0.82097</td>\n",
       "      <td>0.82237</td>\n",
       "      <td>310.37</td>\n",
       "    </tr>\n",
       "    <tr>\n",
       "      <th>2</th>\n",
       "      <td>03.09.2007 02:00:00.000</td>\n",
       "      <td>0.82227</td>\n",
       "      <td>0.82367</td>\n",
       "      <td>0.82187</td>\n",
       "      <td>0.82267</td>\n",
       "      <td>419.97</td>\n",
       "    </tr>\n",
       "    <tr>\n",
       "      <th>3</th>\n",
       "      <td>03.09.2007 03:00:00.000</td>\n",
       "      <td>0.82287</td>\n",
       "      <td>0.82387</td>\n",
       "      <td>0.82157</td>\n",
       "      <td>0.82327</td>\n",
       "      <td>367.18</td>\n",
       "    </tr>\n",
       "    <tr>\n",
       "      <th>4</th>\n",
       "      <td>03.09.2007 04:00:00.000</td>\n",
       "      <td>0.82337</td>\n",
       "      <td>0.82387</td>\n",
       "      <td>0.82127</td>\n",
       "      <td>0.82157</td>\n",
       "      <td>257.45</td>\n",
       "    </tr>\n",
       "    <tr>\n",
       "      <th>...</th>\n",
       "      <td>...</td>\n",
       "      <td>...</td>\n",
       "      <td>...</td>\n",
       "      <td>...</td>\n",
       "      <td>...</td>\n",
       "      <td>...</td>\n",
       "    </tr>\n",
       "    <tr>\n",
       "      <th>132187</th>\n",
       "      <td>01.10.2022 19:00:00.000</td>\n",
       "      <td>0.64023</td>\n",
       "      <td>0.64023</td>\n",
       "      <td>0.64023</td>\n",
       "      <td>0.64023</td>\n",
       "      <td>0.00</td>\n",
       "    </tr>\n",
       "    <tr>\n",
       "      <th>132188</th>\n",
       "      <td>01.10.2022 20:00:00.000</td>\n",
       "      <td>0.64023</td>\n",
       "      <td>0.64023</td>\n",
       "      <td>0.64023</td>\n",
       "      <td>0.64023</td>\n",
       "      <td>0.00</td>\n",
       "    </tr>\n",
       "    <tr>\n",
       "      <th>132189</th>\n",
       "      <td>01.10.2022 21:00:00.000</td>\n",
       "      <td>0.64023</td>\n",
       "      <td>0.64023</td>\n",
       "      <td>0.64023</td>\n",
       "      <td>0.64023</td>\n",
       "      <td>0.00</td>\n",
       "    </tr>\n",
       "    <tr>\n",
       "      <th>132190</th>\n",
       "      <td>01.10.2022 22:00:00.000</td>\n",
       "      <td>0.64023</td>\n",
       "      <td>0.64023</td>\n",
       "      <td>0.64023</td>\n",
       "      <td>0.64023</td>\n",
       "      <td>0.00</td>\n",
       "    </tr>\n",
       "    <tr>\n",
       "      <th>132191</th>\n",
       "      <td>01.10.2022 23:00:00.000</td>\n",
       "      <td>0.64023</td>\n",
       "      <td>0.64023</td>\n",
       "      <td>0.64023</td>\n",
       "      <td>0.64023</td>\n",
       "      <td>0.00</td>\n",
       "    </tr>\n",
       "  </tbody>\n",
       "</table>\n",
       "<p>132192 rows × 6 columns</p>\n",
       "</div>"
      ],
      "text/plain": [
       "                       Gmt time     Open     High      Low    Close  Volume\n",
       "0       03.09.2007 00:00:00.000  0.82127  0.82207  0.82057  0.82157  184.95\n",
       "1       03.09.2007 01:00:00.000  0.82147  0.82287  0.82097  0.82237  310.37\n",
       "2       03.09.2007 02:00:00.000  0.82227  0.82367  0.82187  0.82267  419.97\n",
       "3       03.09.2007 03:00:00.000  0.82287  0.82387  0.82157  0.82327  367.18\n",
       "4       03.09.2007 04:00:00.000  0.82337  0.82387  0.82127  0.82157  257.45\n",
       "...                         ...      ...      ...      ...      ...     ...\n",
       "132187  01.10.2022 19:00:00.000  0.64023  0.64023  0.64023  0.64023    0.00\n",
       "132188  01.10.2022 20:00:00.000  0.64023  0.64023  0.64023  0.64023    0.00\n",
       "132189  01.10.2022 21:00:00.000  0.64023  0.64023  0.64023  0.64023    0.00\n",
       "132190  01.10.2022 22:00:00.000  0.64023  0.64023  0.64023  0.64023    0.00\n",
       "132191  01.10.2022 23:00:00.000  0.64023  0.64023  0.64023  0.64023    0.00\n",
       "\n",
       "[132192 rows x 6 columns]"
      ]
     },
     "execution_count": 3,
     "metadata": {},
     "output_type": "execute_result"
    }
   ],
   "source": [
    "# Read AUDUSD data file\n",
    "raw_data = pd.read_csv(\"/home/ujwal/Python Program/Exp-On-Supervised-ML-Algorithms/Regression/AUDUSD_Candlestick_1_Hour_BID_03.09.2007-01.10.2022.csv\")\n",
    "raw_data"
   ]
  },
  {
   "cell_type": "code",
   "execution_count": 4,
   "metadata": {},
   "outputs": [
    {
     "data": {
      "text/html": [
       "<div>\n",
       "<style scoped>\n",
       "    .dataframe tbody tr th:only-of-type {\n",
       "        vertical-align: middle;\n",
       "    }\n",
       "\n",
       "    .dataframe tbody tr th {\n",
       "        vertical-align: top;\n",
       "    }\n",
       "\n",
       "    .dataframe thead th {\n",
       "        text-align: right;\n",
       "    }\n",
       "</style>\n",
       "<table border=\"1\" class=\"dataframe\">\n",
       "  <thead>\n",
       "    <tr style=\"text-align: right;\">\n",
       "      <th></th>\n",
       "      <th>Close</th>\n",
       "    </tr>\n",
       "    <tr>\n",
       "      <th>Gmt time</th>\n",
       "      <th></th>\n",
       "    </tr>\n",
       "  </thead>\n",
       "  <tbody>\n",
       "    <tr>\n",
       "      <th>03.09.2007 00:00:00.000</th>\n",
       "      <td>0.82157</td>\n",
       "    </tr>\n",
       "    <tr>\n",
       "      <th>03.09.2007 01:00:00.000</th>\n",
       "      <td>0.82237</td>\n",
       "    </tr>\n",
       "    <tr>\n",
       "      <th>03.09.2007 02:00:00.000</th>\n",
       "      <td>0.82267</td>\n",
       "    </tr>\n",
       "    <tr>\n",
       "      <th>03.09.2007 03:00:00.000</th>\n",
       "      <td>0.82327</td>\n",
       "    </tr>\n",
       "    <tr>\n",
       "      <th>03.09.2007 04:00:00.000</th>\n",
       "      <td>0.82157</td>\n",
       "    </tr>\n",
       "    <tr>\n",
       "      <th>...</th>\n",
       "      <td>...</td>\n",
       "    </tr>\n",
       "    <tr>\n",
       "      <th>01.10.2022 19:00:00.000</th>\n",
       "      <td>0.64023</td>\n",
       "    </tr>\n",
       "    <tr>\n",
       "      <th>01.10.2022 20:00:00.000</th>\n",
       "      <td>0.64023</td>\n",
       "    </tr>\n",
       "    <tr>\n",
       "      <th>01.10.2022 21:00:00.000</th>\n",
       "      <td>0.64023</td>\n",
       "    </tr>\n",
       "    <tr>\n",
       "      <th>01.10.2022 22:00:00.000</th>\n",
       "      <td>0.64023</td>\n",
       "    </tr>\n",
       "    <tr>\n",
       "      <th>01.10.2022 23:00:00.000</th>\n",
       "      <td>0.64023</td>\n",
       "    </tr>\n",
       "  </tbody>\n",
       "</table>\n",
       "<p>132192 rows × 1 columns</p>\n",
       "</div>"
      ],
      "text/plain": [
       "                           Close\n",
       "Gmt time                        \n",
       "03.09.2007 00:00:00.000  0.82157\n",
       "03.09.2007 01:00:00.000  0.82237\n",
       "03.09.2007 02:00:00.000  0.82267\n",
       "03.09.2007 03:00:00.000  0.82327\n",
       "03.09.2007 04:00:00.000  0.82157\n",
       "...                          ...\n",
       "01.10.2022 19:00:00.000  0.64023\n",
       "01.10.2022 20:00:00.000  0.64023\n",
       "01.10.2022 21:00:00.000  0.64023\n",
       "01.10.2022 22:00:00.000  0.64023\n",
       "01.10.2022 23:00:00.000  0.64023\n",
       "\n",
       "[132192 rows x 1 columns]"
      ]
     },
     "execution_count": 4,
     "metadata": {},
     "output_type": "execute_result"
    }
   ],
   "source": [
    "# drop everything except Time and Close information\n",
    "from bleach import clean\n",
    "from matplotlib.pyplot import plot\n",
    "\n",
    "\n",
    "clean_data = raw_data.drop([\"High\", \"Open\", \"Low\", \"Volume\"], axis=1)\n",
    "df = clean_data.set_index('Gmt time')\n",
    "df\n",
    "#plot()"
   ]
  },
  {
   "cell_type": "code",
   "execution_count": 5,
   "metadata": {},
   "outputs": [
    {
     "data": {
      "text/plain": [
       "<AxesSubplot:xlabel='Gmt time'>"
      ]
     },
     "execution_count": 5,
     "metadata": {},
     "output_type": "execute_result"
    },
    {
     "data": {
      "image/png": "[encoded data removed]",
      "text/plain": [
       "<Figure size 432x288 with 1 Axes>"
      ]
     },
     "metadata": {
      "needs_background": "light"
     },
     "output_type": "display_data"
    }
   ],
   "source": [
    "df.plot()"
   ]
  },
  {
   "cell_type": "code",
   "execution_count": 6,
   "metadata": {},
   "outputs": [
    {
     "name": "stdout",
     "output_type": "stream",
     "text": [
      "number of inf value present = 0\n",
      "number of nan value present = Close    0\n",
      "dtype: int64\n"
     ]
    }
   ],
   "source": [
    "sum_inf = np.isinf(df).values.sum()\n",
    "sum_nan = df.isna().sum()\n",
    "print(\"number of inf value present =\", sum_inf)\n",
    "print(\"number of nan value present =\", sum_nan)"
   ]
  },
  {
   "cell_type": "code",
   "execution_count": 7,
   "metadata": {},
   "outputs": [
    {
     "data": {
      "image/png": "[encoded data removed]",
      "text/plain": [
       "<Figure size 432x288 with 1 Axes>"
      ]
     },
     "metadata": {
      "needs_background": "light"
     },
     "output_type": "display_data"
    }
   ],
   "source": [
    "# qqplot shows the value not normally distributed\n",
    "from statsmodels.graphics.gofplots import qqplot\n",
    "\n",
    "# q-qplot\n",
    "qqplot(df.Close, line= 's')\n",
    "pyplot.show()"
   ]
  },
  {
   "cell_type": "code",
   "execution_count": 8,
   "metadata": {},
   "outputs": [
    {
     "name": "stdout",
     "output_type": "stream",
     "text": [
      "ADF Statistic: -1.2730410973784418\n",
      "p-value: 0.6414140450092467\n",
      "Critial Values:\n",
      "   1%, -3.430399488625976\n",
      "Critial Values:\n",
      "   5%, -2.8615618732559716\n",
      "Critial Values:\n",
      "   10%, -2.566781642358542\n"
     ]
    }
   ],
   "source": [
    "# visually data is non stationary\n",
    "# Lets do Dickey-fuller test for conformation\n",
    "# if P<0.05 && adf<-3.96 than data is stationary or it is not stationary\n",
    "from statsmodels.tsa.stattools import adfuller\n",
    "#adftest = adfuller(df1)\n",
    "#print('pvalue of adfuller test is: ', adftest[1])\n",
    "\n",
    "result = adfuller(df, autolag='AIC')\n",
    "print(f'ADF Statistic: {result[0]}')\n",
    "print(f'p-value: {result[1]}')\n",
    "for key, value in result[4].items():\n",
    "    print('Critial Values:')\n",
    "    print(f'   {key}, {value}')"
   ]
  },
  {
   "cell_type": "code",
   "execution_count": 9,
   "metadata": {},
   "outputs": [
    {
     "data": {
      "text/plain": [
       "<AxesSubplot:xlabel='Gmt time'>"
      ]
     },
     "execution_count": 9,
     "metadata": {},
     "output_type": "execute_result"
    },
    {
     "data": {
      "image/png": "[encoded data removed]",
      "text/plain": [
       "<Figure size 432x288 with 1 Axes>"
      ]
     },
     "metadata": {
      "needs_background": "light"
     },
     "output_type": "display_data"
    }
   ],
   "source": [
    "# Lets try differencing to remove trend\n",
    "df1 = df.diff()\n",
    "df1.plot()"
   ]
  },
  {
   "cell_type": "code",
   "execution_count": 10,
   "metadata": {},
   "outputs": [
    {
     "name": "stdout",
     "output_type": "stream",
     "text": [
      "number of inf value present = 0\n",
      "number of nan value present = Close    1\n",
      "dtype: int64\n"
     ]
    }
   ],
   "source": [
    "sum_inf = np.isinf(df1).values.sum()\n",
    "sum_nan = df1.isna().sum()\n",
    "print(\"number of inf value present =\", sum_inf)\n",
    "print(\"number of nan value present =\", sum_nan)"
   ]
  },
  {
   "cell_type": "code",
   "execution_count": 11,
   "metadata": {},
   "outputs": [],
   "source": [
    "df1 = df1.dropna()"
   ]
  },
  {
   "cell_type": "code",
   "execution_count": 12,
   "metadata": {},
   "outputs": [
    {
     "name": "stdout",
     "output_type": "stream",
     "text": [
      "ADF Statistic: -50.80346559599819\n",
      "p-value: 0.0\n",
      "Critial Values:\n",
      "   1%, -3.430399488625976\n",
      "Critial Values:\n",
      "   5%, -2.8615618732559716\n",
      "Critial Values:\n",
      "   10%, -2.566781642358542\n"
     ]
    }
   ],
   "source": [
    "#Lets re-test it again.\n",
    "# Lets do Dickey-fuller test for conformation\n",
    "# if P<0.05 && adf<-3.96 than data is stationary or it is not stationary\n",
    "from statsmodels.tsa.stattools import adfuller\n",
    "#adftest = adfuller(df1)\n",
    "#print('pvalue of adfuller test is: ', adftest[1])\n",
    "\n",
    "result = adfuller(df1, autolag='AIC')\n",
    "print(f'ADF Statistic: {result[0]}')\n",
    "print(f'p-value: {result[1]}')\n",
    "for key, value in result[4].items():\n",
    "    print('Critial Values:')\n",
    "    print(f'   {key}, {value}')"
   ]
  },
  {
   "cell_type": "code",
   "execution_count": 13,
   "metadata": {},
   "outputs": [
    {
     "data": {
      "image/png": "[encoded data removed]",
      "text/plain": [
       "<Figure size 432x288 with 1 Axes>"
      ]
     },
     "metadata": {
      "needs_background": "light"
     },
     "output_type": "display_data"
    }
   ],
   "source": [
    "# qqplot shows the value not normally distributed\n",
    "from statsmodels.graphics.gofplots import qqplot\n",
    "\n",
    "# q-qplot\n",
    "qqplot(df1.Close, line= 's')\n",
    "pyplot.show()"
   ]
  },
  {
   "cell_type": "code",
   "execution_count": 16,
   "metadata": {},
   "outputs": [
    {
     "name": "stdout",
     "output_type": "stream",
     "text": [
      "132191\n",
      "train= 92533.7\n",
      "val= 19828.649999999998\n",
      "test= 19828.649999999998\n"
     ]
    }
   ],
   "source": [
    "print(len(df1))\n",
    "print(\"train=\",len(df1)*0.7)\n",
    "print(\"val=\", len(df1)*0.15)\n",
    "print(\"test=\", len(df1)*0.15)"
   ]
  },
  {
   "cell_type": "code",
   "execution_count": 17,
   "metadata": {},
   "outputs": [
    {
     "name": "stdout",
     "output_type": "stream",
     "text": [
      "92533 39658\n",
      "92533 19829 19829\n"
     ]
    }
   ],
   "source": [
    "# Split dataset to train, val, test as 70%-15%-15%\n",
    "train, series = df1[:92533], df1[92533:] \n",
    "print(len(train), len(series))\n",
    "val, test = series[:19829], series[19829:]\n",
    "print(len(train), len(val), len(test))"
   ]
  },
  {
   "cell_type": "code",
   "execution_count": 18,
   "metadata": {},
   "outputs": [
    {
     "data": {
      "text/plain": [
       "<AxesSubplot:xlabel='Gmt time'>"
      ]
     },
     "execution_count": 18,
     "metadata": {},
     "output_type": "execute_result"
    },
    {
     "data": {
      "image/png": "[encoded data removed]",
      "text/plain": [
       "<Figure size 432x288 with 1 Axes>"
      ]
     },
     "metadata": {
      "needs_background": "light"
     },
     "output_type": "display_data"
    }
   ],
   "source": [
    "\n",
    "df1.plot()\n"
   ]
  },
  {
   "cell_type": "code",
   "execution_count": 19,
   "metadata": {},
   "outputs": [],
   "source": [
    "import matplotlib.pyplot as plt\n",
    "\n",
    "#plt.plot(train)\n",
    "#plt.plot(val)\n",
    "#plt.plot(test)\n",
    "#plt.show()"
   ]
  },
  {
   "cell_type": "code",
   "execution_count": 20,
   "metadata": {},
   "outputs": [],
   "source": [
    "import numpy as np\n",
    "\n",
    "def sampling(sequence, n_steps):\n",
    "\n",
    "    X, Y = list(), list()\n",
    "    \n",
    "    for i in range(len(sequence)):\n",
    "        \n",
    "        sam = i + n_steps\n",
    "        if sam > len(sequence)-1:\n",
    "            break\n",
    "        x, y = sequence[i:sam], sequence[sam]\n",
    "        X.append(x)\n",
    "        Y.append(y)\n",
    "    return np.array(X), np.array(Y)\n",
    "\n",
    "n_steps = 30\n",
    "\n",
    "train_X, train_Y = sampling(train['Close'].tolist(), n_steps)\n",
    "val_X, val_Y = sampling(val['Close'].tolist(), n_steps)\n",
    "test_X, test_Y = sampling(test['Close'].tolist(), n_steps)\n"
   ]
  },
  {
   "cell_type": "code",
   "execution_count": 21,
   "metadata": {},
   "outputs": [],
   "source": [
    "# Initialize the algorithm\n",
    "model = LinearRegression()"
   ]
  },
  {
   "cell_type": "code",
   "execution_count": 22,
   "metadata": {},
   "outputs": [
    {
     "name": "stderr",
     "output_type": "stream",
     "text": [
      "/home/ujwal/anaconda3/lib/python3.9/site-packages/sklearn/model_selection/_search.py:292: UserWarning: The total space of parameters 8 is smaller than n_iter=500. Running 8 iterations. For exhaustive searches, use GridSearchCV.\n",
      "  warnings.warn(\n"
     ]
    },
    {
     "name": "stdout",
     "output_type": "stream",
     "text": [
      "Best Score: -0.0004141716152773328\n",
      "Best Hyperparameters: {'positive': True, 'fit_intercept': False, 'copy_X': True}\n"
     ]
    }
   ],
   "source": [
    "# define evaluation\n",
    "cv = RepeatedKFold(n_splits=10, n_repeats=3, random_state=1)\n",
    "# define search space\n",
    "space = dict()\n",
    "space['copy_X'] = [True, False]\n",
    "space['positive'] = [True, False]\n",
    "space['fit_intercept'] = [True, False]\n",
    "# define search\n",
    "search = RandomizedSearchCV(model, space, n_iter=500, scoring='neg_mean_absolute_error', n_jobs=-1, cv=cv, random_state=1)\n",
    "# execute search\n",
    "result = search.fit(val_X, val_Y)\n",
    "# summarize result\n",
    "print('Best Score: %s' % result.best_score_)\n",
    "print('Best Hyperparameters: %s' % result.best_params_)"
   ]
  },
  {
   "cell_type": "code",
   "execution_count": 23,
   "metadata": {},
   "outputs": [
    {
     "data": {
      "text/plain": [
       "LinearRegression(fit_intercept=False, positive=True)"
      ]
     },
     "execution_count": 23,
     "metadata": {},
     "output_type": "execute_result"
    }
   ],
   "source": [
    "# Train the algorithm\n",
    "model = LinearRegression(fit_intercept=False, copy_X=True, positive=True)\n",
    "model.fit(train_X,train_Y)"
   ]
  },
  {
   "cell_type": "code",
   "execution_count": 24,
   "metadata": {},
   "outputs": [
    {
     "data": {
      "text/plain": [
       "array([0.        , 0.00326795, 0.00135073, 0.        , 0.        ,\n",
       "       0.        , 0.        , 0.        , 0.00142092, 0.        ,\n",
       "       0.00202623, 0.00374142, 0.00926359, 0.01293314, 0.        ,\n",
       "       0.0057836 , 0.00582896, 0.        , 0.        , 0.        ,\n",
       "       0.        , 0.01058105, 0.        , 0.0076268 , 0.        ,\n",
       "       0.00307362, 0.00476424, 0.        , 0.        , 0.        ])"
      ]
     },
     "execution_count": 24,
     "metadata": {},
     "output_type": "execute_result"
    }
   ],
   "source": [
    "model.coef_"
   ]
  },
  {
   "cell_type": "code",
   "execution_count": 25,
   "metadata": {},
   "outputs": [],
   "source": [
    "predictions = model.predict(test_X)"
   ]
  },
  {
   "cell_type": "code",
   "execution_count": 26,
   "metadata": {},
   "outputs": [
    {
     "data": {
      "text/plain": [
       "Text(0, 0.5, 'Predicted Y')"
      ]
     },
     "execution_count": 26,
     "metadata": {},
     "output_type": "execute_result"
    },
    {
     "data": {
      "image/png": "[encoded data removed]",
      "text/plain": [
       "<Figure size 432x288 with 1 Axes>"
      ]
     },
     "metadata": {
      "needs_background": "light"
     },
     "output_type": "display_data"
    }
   ],
   "source": [
    "import matplotlib.pyplot as plt\n",
    "plt.scatter(test_Y,predictions)\n",
    "plt.xlabel('test_Y')\n",
    "plt.ylabel('Predicted Y')"
   ]
  },
  {
   "cell_type": "code",
   "execution_count": 27,
   "metadata": {},
   "outputs": [
    {
     "name": "stdout",
     "output_type": "stream",
     "text": [
      "MAE :   0.0004843301126681979\n",
      "MSE :   6.509614489757677e-07\n",
      "RMAE :   0.000806821819843618\n"
     ]
    }
   ],
   "source": [
    "# Check mse using Linear regression\n",
    "from sklearn import metrics\n",
    "print('MAE :',\" \", metrics.mean_absolute_error(test_Y,predictions))\n",
    "print('MSE :',\" \", metrics.mean_squared_error(test_Y,predictions))\n",
    "print('RMAE :',\" \", np.sqrt(metrics.mean_squared_error(test_Y,predictions)))"
   ]
  },
  {
   "cell_type": "code",
   "execution_count": 28,
   "metadata": {},
   "outputs": [
    {
     "name": "stderr",
     "output_type": "stream",
     "text": [
      "/home/ujwal/anaconda3/lib/python3.9/site-packages/seaborn/distributions.py:2619: FutureWarning: `distplot` is a deprecated function and will be removed in a future version. Please adapt your code to use either `displot` (a figure-level function with similar flexibility) or `histplot` (an axes-level function for histograms).\n",
      "  warnings.warn(msg, FutureWarning)\n"
     ]
    },
    {
     "data": {
      "text/plain": [
       "<AxesSubplot:ylabel='Density'>"
      ]
     },
     "execution_count": 28,
     "metadata": {},
     "output_type": "execute_result"
    },
    {
     "data": {
      "image/png": "[encoded data removed]",
      "text/plain": [
       "<Figure size 432x288 with 1 Axes>"
      ]
     },
     "metadata": {
      "needs_background": "light"
     },
     "output_type": "display_data"
    }
   ],
   "source": [
    "sns.distplot(test_Y - predictions,bins=50)"
   ]
  },
  {
   "cell_type": "code",
   "execution_count": 29,
   "metadata": {},
   "outputs": [],
   "source": [
    "# save model using pickle\n",
    "pickle.dump(model, open('model.pkl', 'wb'))"
   ]
  },
  {
   "cell_type": "code",
   "execution_count": 30,
   "metadata": {},
   "outputs": [],
   "source": [
    "# loading model\n",
    "pickled_model = pickle.load(open('model.pkl', 'rb'))"
   ]
  },
  {
   "cell_type": "code",
   "execution_count": 132,
   "metadata": {},
   "outputs": [
    {
     "name": "stdout",
     "output_type": "stream",
     "text": [
      "19779 50\n"
     ]
    }
   ],
   "source": [
    "test1, non_usable= test[:50], test[50:]\n",
    "print(len(non_usable), len(test1))"
   ]
  },
  {
   "cell_type": "code",
   "execution_count": 140,
   "metadata": {},
   "outputs": [
    {
     "name": "stdout",
     "output_type": "stream",
     "text": [
      "[0.0, 0.0, 0.0, 0.0, 0.0, 0.0, 0.0, 0.0, 0.0, 0.0]\n",
      "[0.0, 0.0, 0.0, 0.0, 0.0, 0.0, 0.0, 0.0, 0.0, 0.0]\n",
      "[0.0, 0.0, 0.0, 0.0, 0.0, 0.0, 0.0, 0.0, 0.0, 0.0]\n",
      "[0.0, 0.0, 0.0, 0.0, 0.0, 0.0, 0.0, 0.0, 0.0, 0.0]\n",
      "[0.0, 0.0, 0.0, 0.0, 0.0, 0.0, 0.0, 0.0, 0.0, 0.0]\n",
      "[0.0, 0.0, 0.0, 0.0, 0.0, 0.0, 0.0, 0.0, 0.0, 0.0]\n",
      "[0.0, 0.0, 0.0, 0.0, 0.0, 0.0, 0.0, 0.0, 0.0, 0.0]\n",
      "[0.0, 0.0, 0.0, 0.0, 0.0, 0.0, 0.0, 0.0, 0.0, 0.0]\n",
      "[0.0, 0.0, 0.0, 0.0, 0.0, 0.0, 0.0, 0.0, 0.0, 0.0]\n",
      "[0.0, 0.0, 0.0, 0.0, 0.0, 0.0, 0.0, 0.0, 0.0, 0.0]\n",
      "[0.0, 0.0, 0.0, 0.0, 0.0, 0.0, 0.0, 0.0, 0.0, 0.0]\n",
      "[0.0, 0.0, 0.0, 0.0, 0.0, 0.0, 0.0, 0.0, 0.0, 0.0]\n",
      "[0.0, 0.0, 0.0, 0.0, 0.0, 0.0, 0.0, 0.0, 0.0, 0.0]\n",
      "[0.0, 0.0, 0.0, 0.0, 0.0, 0.0, 0.0, 0.0, 0.0, 0.0]\n",
      "[0.0, 0.0, 0.0, 0.0, 0.0, 0.0, 0.0, 0.0, 0.0, 0.0]\n",
      "[0.0, 0.0, 0.0, 0.0, 0.0, 0.0, 0.0, 0.0, 0.0, 0.0]\n",
      "[0.0, 0.0, 0.0, 0.0, 0.0, 0.0, 0.0, 0.0, 0.0, -0.0014899999999999913]\n",
      "[0.0, 0.0, 0.0, 0.0, 0.0, 0.0, 0.0, 0.0, -0.0014899999999999913, 0.0008900000000000574]\n",
      "[0.0, 0.0, 0.0, 0.0, 0.0, 0.0, 0.0, -0.0014899999999999913, 0.0008900000000000574, 0.00014999999999998348]\n",
      "[0.0, 0.0, 0.0, 0.0, 0.0, 0.0, -0.0014899999999999913, 0.0008900000000000574, 0.00014999999999998348, 0.0014199999999999768]\n"
     ]
    }
   ],
   "source": [
    "import numpy as np\n",
    "\n",
    "def sampling(sequence, n_steps):\n",
    "\n",
    "    X, Y = list(), list()\n",
    "    \n",
    "    for i in range(len(sequence)):\n",
    "        \n",
    "        sam = i + n_steps\n",
    "        yam = i + 11\n",
    "        if sam > len(sequence)-1:\n",
    "            break\n",
    "        x, y = sequence[i:sam], sequence[(i+1):yam]\n",
    "        print(y)\n",
    "        X.append(x)\n",
    "        Y.append(y)\n",
    "    return np.array(X), np.array(Y)\n",
    "\n",
    "n_steps = 30\n",
    "\n",
    "\n",
    "test_x, test_y = sampling(test1['Close'].tolist(), n_steps)\n"
   ]
  },
  {
   "cell_type": "code",
   "execution_count": 134,
   "metadata": {},
   "outputs": [],
   "source": [
    "# set up display area to show dataframe in jupyter qtconsole\n",
    "\n",
    "#pd.set_option('display.height', 1000)\n",
    "#pd.set_option('display.max_rows', 500)\n",
    "#pd.set_option('display.max_columns', 500)\n",
    "#pd.set_option('display.width', 1000)\n",
    "\n",
    "import sys\n",
    "np.set_printoptions(threshold=sys.maxsize)"
   ]
  },
  {
   "cell_type": "code",
   "execution_count": 141,
   "metadata": {},
   "outputs": [
    {
     "data": {
      "text/plain": [
       "array([[0., 0., 0., 0., 0., 0., 0., 0., 0., 0., 0., 0., 0., 0., 0., 0.,\n",
       "        0., 0., 0., 0.],\n",
       "       [0., 0., 0., 0., 0., 0., 0., 0., 0., 0., 0., 0., 0., 0., 0., 0.,\n",
       "        0., 0., 0., 0.]])"
      ]
     },
     "execution_count": 141,
     "metadata": {},
     "output_type": "execute_result"
    }
   ],
   "source": [
    "\n",
    "#A_NEW = A[start_index_row : stop_index_row, start_index_column : stop_index_column)]\n",
    "test_x[1:3,:20]"
   ]
  },
  {
   "cell_type": "code",
   "execution_count": 136,
   "metadata": {},
   "outputs": [
    {
     "data": {
      "text/plain": [
       "array([[0., 0., 0., 0., 0., 0., 0., 0., 0., 0.]])"
      ]
     },
     "execution_count": 136,
     "metadata": {},
     "output_type": "execute_result"
    }
   ],
   "source": [
    "test_y[0:1,:20]"
   ]
  },
  {
   "cell_type": "code",
   "execution_count": 142,
   "metadata": {},
   "outputs": [
    {
     "data": {
      "text/plain": [
       "20"
      ]
     },
     "execution_count": 142,
     "metadata": {},
     "output_type": "execute_result"
    }
   ],
   "source": [
    "len(test_x)"
   ]
  },
  {
   "cell_type": "code",
   "execution_count": 138,
   "metadata": {},
   "outputs": [
    {
     "ename": "KeyboardInterrupt",
     "evalue": "",
     "output_type": "error",
     "traceback": [
      "\u001b[0;31m---------------------------------------------------------------------------\u001b[0m",
      "\u001b[0;31mKeyboardInterrupt\u001b[0m                         Traceback (most recent call last)",
      "\u001b[1;32mUntitled-1.ipynb Cell 34\u001b[0m in \u001b[0;36m<cell line: 3>\u001b[0;34m()\u001b[0m\n\u001b[1;32m      <a href='vscode-notebook-cell:Untitled-1.ipynb?jupyter-notebook#X41sdW50aXRsZWQ%3D?line=8'>9</a>\u001b[0m i\u001b[39m=\u001b[39m\u001b[39m0\u001b[39m\n\u001b[1;32m     <a href='vscode-notebook-cell:Untitled-1.ipynb?jupyter-notebook#X41sdW50aXRsZWQ%3D?line=9'>10</a>\u001b[0m \u001b[39mwhile\u001b[39;00m(i\u001b[39m<\u001b[39m\u001b[39m10\u001b[39m):\n\u001b[0;32m---> <a href='vscode-notebook-cell:Untitled-1.ipynb?jupyter-notebook#X41sdW50aXRsZWQ%3D?line=11'>12</a>\u001b[0m     \u001b[39mif\u001b[39;00m(\u001b[39mlen\u001b[39;49m(temp_input)\u001b[39m>\u001b[39m\u001b[39m3\u001b[39m):\n\u001b[1;32m     <a href='vscode-notebook-cell:Untitled-1.ipynb?jupyter-notebook#X41sdW50aXRsZWQ%3D?line=12'>13</a>\u001b[0m         x_input\u001b[39m=\u001b[39marray(temp_input[\u001b[39m1\u001b[39m:])\n\u001b[1;32m     <a href='vscode-notebook-cell:Untitled-1.ipynb?jupyter-notebook#X41sdW50aXRsZWQ%3D?line=13'>14</a>\u001b[0m         \u001b[39mprint\u001b[39m(\u001b[39m\"\u001b[39m\u001b[39m{}\u001b[39;00m\u001b[39m day input \u001b[39m\u001b[39m{}\u001b[39;00m\u001b[39m\"\u001b[39m\u001b[39m.\u001b[39mformat(i,x_input))\n",
      "\u001b[0;31mKeyboardInterrupt\u001b[0m: "
     ]
    }
   ],
   "source": [
    "# demonstrate prediction for next 10 days\n",
    "prediction = []\n",
    "for i in range(len(test_x)):\n",
    "    x_input = test_x[i:(i+1),:20]\n",
    "    temp_input=list(x_input)\n",
    "    n_features = 1\n",
    "    lst_output=[]\n",
    "    n_steps = 20\n",
    "    i=0\n",
    "    while(i<10):\n",
    "        \n",
    "        if(len(temp_input)>3):\n",
    "            x_input=array(temp_input[1:])\n",
    "            print(\"{} day input {}\".format(i,x_input))\n",
    "            #print(x_input)\n",
    "            x_input = x_input.reshape((1, n_steps, n_features))\n",
    "            #print(x_input)\n",
    "            yhat = model.predict(x_input, verbose=0)\n",
    "            print(\"{} day output {}\".format(i,yhat))\n",
    "            temp_input.append(yhat[0][0])\n",
    "            temp_input=temp_input[1:]\n",
    "            #print(temp_input)\n",
    "            lst_output.append(yhat[0][0])\n",
    "            i=i+1\n",
    "        #else:\n",
    "            #x_input = x_input.reshape(1, n_steps)\n",
    "            #yhat = model.predict(x_input)\n",
    "            #print(yhat[0])\n",
    "            #temp_input.append(yhat[0][0])\n",
    "            #lst_output.append(yhat[0][0])\n",
    "            #i=i+1\n",
    "        \n",
    "    prediction.append(lst_output)\n",
    "    print(lst_output)"
   ]
  },
  {
   "cell_type": "code",
   "execution_count": 143,
   "metadata": {},
   "outputs": [
    {
     "ename": "KeyboardInterrupt",
     "evalue": "",
     "output_type": "error",
     "traceback": [
      "\u001b[0;31m---------------------------------------------------------------------------\u001b[0m",
      "\u001b[0;31mKeyboardInterrupt\u001b[0m                         Traceback (most recent call last)",
      "\u001b[1;32mUntitled-1.ipynb Cell 35\u001b[0m in \u001b[0;36m<cell line: 9>\u001b[0;34m()\u001b[0m\n\u001b[1;32m      <a href='vscode-notebook-cell:Untitled-1.ipynb?jupyter-notebook#X54sdW50aXRsZWQ%3D?line=7'>8</a>\u001b[0m i\u001b[39m=\u001b[39m\u001b[39m0\u001b[39m\n\u001b[1;32m      <a href='vscode-notebook-cell:Untitled-1.ipynb?jupyter-notebook#X54sdW50aXRsZWQ%3D?line=8'>9</a>\u001b[0m \u001b[39mwhile\u001b[39;00m(i\u001b[39m<\u001b[39m\u001b[39m10\u001b[39m):\n\u001b[0;32m---> <a href='vscode-notebook-cell:Untitled-1.ipynb?jupyter-notebook#X54sdW50aXRsZWQ%3D?line=10'>11</a>\u001b[0m     \u001b[39mif\u001b[39;00m(\u001b[39mlen\u001b[39;49m(temp_input)\u001b[39m>\u001b[39m\u001b[39m3\u001b[39m):\n\u001b[1;32m     <a href='vscode-notebook-cell:Untitled-1.ipynb?jupyter-notebook#X54sdW50aXRsZWQ%3D?line=11'>12</a>\u001b[0m         x_input\u001b[39m=\u001b[39marray(temp_input[\u001b[39m1\u001b[39m:])\n\u001b[1;32m     <a href='vscode-notebook-cell:Untitled-1.ipynb?jupyter-notebook#X54sdW50aXRsZWQ%3D?line=12'>13</a>\u001b[0m         \u001b[39mprint\u001b[39m(\u001b[39m\"\u001b[39m\u001b[39m{}\u001b[39;00m\u001b[39m day input \u001b[39m\u001b[39m{}\u001b[39;00m\u001b[39m\"\u001b[39m\u001b[39m.\u001b[39mformat(i,x_input))\n",
      "\u001b[0;31mKeyboardInterrupt\u001b[0m: "
     ]
    }
   ],
   "source": [
    "# demonstrate prediction for next 10 days\n",
    "\n",
    "x_input = test_x[:1,:20]\n",
    "temp_input=list(x_input)\n",
    "n_features = 1\n",
    "lst_output=[]\n",
    "n_steps = 20\n",
    "i=0\n",
    "while(i<10):\n",
    "    \n",
    "    if(len(temp_input)>3):\n",
    "        x_input=array(temp_input[1:])\n",
    "        print(\"{} day input {}\".format(i,x_input))\n",
    "        #print(x_input)\n",
    "        x_input = x_input.reshape((1, n_steps, n_features))\n",
    "        #print(x_input)\n",
    "        yhat = model.predict(x_input, verbose=0)\n",
    "        print(\"{} day output {}\".format(i,yhat))\n",
    "        temp_input.append(yhat[0][0])\n",
    "        temp_input=temp_input[1:]\n",
    "        #print(temp_input)\n",
    "        lst_output.append(yhat[0][0])\n",
    "        i=i+1\n",
    "    #else:\n",
    "        #x_input = x_input.reshape(1, n_steps)\n",
    "        #yhat = model.predict(x_input)\n",
    "        #print(yhat[0])\n",
    "        #temp_input.append(yhat[0][0])\n",
    "        #lst_output.append(yhat[0][0])\n",
    "        #i=i+1\n",
    "\n",
    "print(lst_output)"
   ]
  },
  {
   "cell_type": "code",
   "execution_count": 183,
   "metadata": {},
   "outputs": [
    {
     "data": {
      "text/plain": [
       "array([[0.],\n",
       "       [0.],\n",
       "       [0.],\n",
       "       [0.],\n",
       "       [0.],\n",
       "       [0.],\n",
       "       [0.],\n",
       "       [0.],\n",
       "       [0.],\n",
       "       [0.],\n",
       "       [0.],\n",
       "       [0.],\n",
       "       [0.],\n",
       "       [0.],\n",
       "       [0.],\n",
       "       [0.],\n",
       "       [0.],\n",
       "       [0.],\n",
       "       [0.],\n",
       "       [0.]])"
      ]
     },
     "execution_count": 183,
     "metadata": {},
     "output_type": "execute_result"
    }
   ],
   "source": [
    "x_input = test_x[:1,:20]\n",
    "x_input = x_input.reshape(-1,1)\n",
    "x_input"
   ]
  },
  {
   "cell_type": "code",
   "execution_count": 178,
   "metadata": {},
   "outputs": [
    {
     "ename": "ValueError",
     "evalue": "Found array with 0 sample(s) (shape=(0, 1)) while a minimum of 1 is required.",
     "output_type": "error",
     "traceback": [
      "\u001b[0;31m---------------------------------------------------------------------------\u001b[0m",
      "\u001b[0;31mValueError\u001b[0m                                Traceback (most recent call last)",
      "\u001b[1;32mUntitled-1.ipynb Cell 37\u001b[0m in \u001b[0;36m<cell line: 7>\u001b[0;34m()\u001b[0m\n\u001b[1;32m     <a href='vscode-notebook-cell:Untitled-1.ipynb?jupyter-notebook#X55sdW50aXRsZWQ%3D?line=23'>24</a>\u001b[0m x_input \u001b[39m=\u001b[39m np\u001b[39m.\u001b[39marray(x_input)\n\u001b[1;32m     <a href='vscode-notebook-cell:Untitled-1.ipynb?jupyter-notebook#X55sdW50aXRsZWQ%3D?line=24'>25</a>\u001b[0m x_input \u001b[39m=\u001b[39m x_input\u001b[39m.\u001b[39mreshape(\u001b[39m-\u001b[39m\u001b[39m1\u001b[39m,\u001b[39m1\u001b[39m)\n\u001b[0;32m---> <a href='vscode-notebook-cell:Untitled-1.ipynb?jupyter-notebook#X55sdW50aXRsZWQ%3D?line=25'>26</a>\u001b[0m yhat \u001b[39m=\u001b[39m model\u001b[39m.\u001b[39;49mpredict(x_input)\n\u001b[1;32m     <a href='vscode-notebook-cell:Untitled-1.ipynb?jupyter-notebook#X55sdW50aXRsZWQ%3D?line=26'>27</a>\u001b[0m \u001b[39mprint\u001b[39m(yhat[\u001b[39m0\u001b[39m])\n\u001b[1;32m     <a href='vscode-notebook-cell:Untitled-1.ipynb?jupyter-notebook#X55sdW50aXRsZWQ%3D?line=27'>28</a>\u001b[0m temp_input\u001b[39m.\u001b[39mappend(yhat[\u001b[39m0\u001b[39m][\u001b[39m0\u001b[39m])\n",
      "File \u001b[0;32m~/anaconda3/lib/python3.9/site-packages/sklearn/linear_model/_base.py:362\u001b[0m, in \u001b[0;36mLinearModel.predict\u001b[0;34m(self, X)\u001b[0m\n\u001b[1;32m    348\u001b[0m \u001b[39mdef\u001b[39;00m \u001b[39mpredict\u001b[39m(\u001b[39mself\u001b[39m, X):\n\u001b[1;32m    349\u001b[0m     \u001b[39m\"\"\"\u001b[39;00m\n\u001b[1;32m    350\u001b[0m \u001b[39m    Predict using the linear model.\u001b[39;00m\n\u001b[1;32m    351\u001b[0m \n\u001b[0;32m   (...)\u001b[0m\n\u001b[1;32m    360\u001b[0m \u001b[39m        Returns predicted values.\u001b[39;00m\n\u001b[1;32m    361\u001b[0m \u001b[39m    \"\"\"\u001b[39;00m\n\u001b[0;32m--> 362\u001b[0m     \u001b[39mreturn\u001b[39;00m \u001b[39mself\u001b[39;49m\u001b[39m.\u001b[39;49m_decision_function(X)\n",
      "File \u001b[0;32m~/anaconda3/lib/python3.9/site-packages/sklearn/linear_model/_base.py:345\u001b[0m, in \u001b[0;36mLinearModel._decision_function\u001b[0;34m(self, X)\u001b[0m\n\u001b[1;32m    342\u001b[0m \u001b[39mdef\u001b[39;00m \u001b[39m_decision_function\u001b[39m(\u001b[39mself\u001b[39m, X):\n\u001b[1;32m    343\u001b[0m     check_is_fitted(\u001b[39mself\u001b[39m)\n\u001b[0;32m--> 345\u001b[0m     X \u001b[39m=\u001b[39m \u001b[39mself\u001b[39;49m\u001b[39m.\u001b[39;49m_validate_data(X, accept_sparse\u001b[39m=\u001b[39;49m[\u001b[39m\"\u001b[39;49m\u001b[39mcsr\u001b[39;49m\u001b[39m\"\u001b[39;49m, \u001b[39m\"\u001b[39;49m\u001b[39mcsc\u001b[39;49m\u001b[39m\"\u001b[39;49m, \u001b[39m\"\u001b[39;49m\u001b[39mcoo\u001b[39;49m\u001b[39m\"\u001b[39;49m], reset\u001b[39m=\u001b[39;49m\u001b[39mFalse\u001b[39;49;00m)\n\u001b[1;32m    346\u001b[0m     \u001b[39mreturn\u001b[39;00m safe_sparse_dot(X, \u001b[39mself\u001b[39m\u001b[39m.\u001b[39mcoef_\u001b[39m.\u001b[39mT, dense_output\u001b[39m=\u001b[39m\u001b[39mTrue\u001b[39;00m) \u001b[39m+\u001b[39m \u001b[39mself\u001b[39m\u001b[39m.\u001b[39mintercept_\n",
      "File \u001b[0;32m~/anaconda3/lib/python3.9/site-packages/sklearn/base.py:566\u001b[0m, in \u001b[0;36mBaseEstimator._validate_data\u001b[0;34m(self, X, y, reset, validate_separately, **check_params)\u001b[0m\n\u001b[1;32m    564\u001b[0m     \u001b[39mraise\u001b[39;00m \u001b[39mValueError\u001b[39;00m(\u001b[39m\"\u001b[39m\u001b[39mValidation should be done on X, y or both.\u001b[39m\u001b[39m\"\u001b[39m)\n\u001b[1;32m    565\u001b[0m \u001b[39melif\u001b[39;00m \u001b[39mnot\u001b[39;00m no_val_X \u001b[39mand\u001b[39;00m no_val_y:\n\u001b[0;32m--> 566\u001b[0m     X \u001b[39m=\u001b[39m check_array(X, \u001b[39m*\u001b[39;49m\u001b[39m*\u001b[39;49mcheck_params)\n\u001b[1;32m    567\u001b[0m     out \u001b[39m=\u001b[39m X\n\u001b[1;32m    568\u001b[0m \u001b[39melif\u001b[39;00m no_val_X \u001b[39mand\u001b[39;00m \u001b[39mnot\u001b[39;00m no_val_y:\n",
      "File \u001b[0;32m~/anaconda3/lib/python3.9/site-packages/sklearn/utils/validation.py:805\u001b[0m, in \u001b[0;36mcheck_array\u001b[0;34m(array, accept_sparse, accept_large_sparse, dtype, order, copy, force_all_finite, ensure_2d, allow_nd, ensure_min_samples, ensure_min_features, estimator)\u001b[0m\n\u001b[1;32m    803\u001b[0m     n_samples \u001b[39m=\u001b[39m _num_samples(array)\n\u001b[1;32m    804\u001b[0m     \u001b[39mif\u001b[39;00m n_samples \u001b[39m<\u001b[39m ensure_min_samples:\n\u001b[0;32m--> 805\u001b[0m         \u001b[39mraise\u001b[39;00m \u001b[39mValueError\u001b[39;00m(\n\u001b[1;32m    806\u001b[0m             \u001b[39m\"\u001b[39m\u001b[39mFound array with \u001b[39m\u001b[39m%d\u001b[39;00m\u001b[39m sample(s) (shape=\u001b[39m\u001b[39m%s\u001b[39;00m\u001b[39m) while a\u001b[39m\u001b[39m\"\u001b[39m\n\u001b[1;32m    807\u001b[0m             \u001b[39m\"\u001b[39m\u001b[39m minimum of \u001b[39m\u001b[39m%d\u001b[39;00m\u001b[39m is required\u001b[39m\u001b[39m%s\u001b[39;00m\u001b[39m.\u001b[39m\u001b[39m\"\u001b[39m\n\u001b[1;32m    808\u001b[0m             \u001b[39m%\u001b[39m (n_samples, array\u001b[39m.\u001b[39mshape, ensure_min_samples, context)\n\u001b[1;32m    809\u001b[0m         )\n\u001b[1;32m    811\u001b[0m \u001b[39mif\u001b[39;00m ensure_min_features \u001b[39m>\u001b[39m \u001b[39m0\u001b[39m \u001b[39mand\u001b[39;00m array\u001b[39m.\u001b[39mndim \u001b[39m==\u001b[39m \u001b[39m2\u001b[39m:\n\u001b[1;32m    812\u001b[0m     n_features \u001b[39m=\u001b[39m array\u001b[39m.\u001b[39mshape[\u001b[39m1\u001b[39m]\n",
      "\u001b[0;31mValueError\u001b[0m: Found array with 0 sample(s) (shape=(0, 1)) while a minimum of 1 is required."
     ]
    }
   ],
   "source": [
    "# demonstrate prediction for next 10 days\n",
    "#temp_input=list(x_input)\n",
    "lst_output=[]\n",
    "n_features = 1\n",
    "n_steps = 10\n",
    "i=0\n",
    "while(i<10):\n",
    "    \n",
    "    if(len(temp_input)>0):\n",
    "        #x_input=temp_input[1:]\n",
    "        print(\"{} day input {}\".format(i,x_input))\n",
    "        #print(x_input)\n",
    "        x_input = np.array(x_input)\n",
    "        x_input = x_input.reshape(-1,1)\n",
    "        #print(x_input)\n",
    "        yhat = model.predict(x_input)\n",
    "        print(\"{} day output {}\".format(i,yhat))\n",
    "        temp_input.append(yhat[0][0])\n",
    "        temp_input=temp_input[1:]\n",
    "        #print(temp_input)\n",
    "        lst_output.append(yhat[0][0])\n",
    "        i=i+1\n",
    "    else:\n",
    "        x_input = np.array(x_input)\n",
    "        x_input = x_input.reshape(-1,1)\n",
    "        yhat = model.predict(x_input)\n",
    "        print(yhat[0])\n",
    "        temp_input.append(yhat[0][0])\n",
    "        lst_output.append(yhat[0][0])\n",
    "        i=i+1\n",
    "    \n",
    "\n",
    "print(lst_output)"
   ]
  },
  {
   "cell_type": "code",
   "execution_count": null,
   "metadata": {},
   "outputs": [
    {
     "ename": "NameError",
     "evalue": "name 'test_X' is not defined",
     "output_type": "error",
     "traceback": [
      "\u001b[0;31m---------------------------------------------------------------------------\u001b[0m",
      "\u001b[0;31mNameError\u001b[0m                                 Traceback (most recent call last)",
      "\u001b[1;32mUntitled-1.ipynb Cell 31\u001b[0m in \u001b[0;36m<cell line: 1>\u001b[0;34m()\u001b[0m\n\u001b[0;32m----> <a href='vscode-notebook-cell:Untitled-1.ipynb?jupyter-notebook#X42sdW50aXRsZWQ%3D?line=0'>1</a>\u001b[0m \u001b[39mprint\u001b[39m(test_X\u001b[39m.\u001b[39mhead(\u001b[39m5\u001b[39m))\n",
      "\u001b[0;31mNameError\u001b[0m: name 'test_X' is not defined"
     ]
    }
   ],
   "source": [
    "# Check mse using Linear regression\n",
    "from sklearn import metrics\n",
    "print('MAE :',\" \", metrics.mean_absolute_error(test_y,prediction))\n",
    "print('MSE :',\" \", metrics.mean_squared_error(test_y,prediction))\n",
    "print('RMAE :',\" \", np.sqrt(metrics.mean_squared_error(test_y,prediction)))"
   ]
  },
  {
   "cell_type": "code",
   "execution_count": null,
   "metadata": {},
   "outputs": [],
   "source": []
  },
  {
   "cell_type": "code",
   "execution_count": null,
   "metadata": {},
   "outputs": [],
   "source": [
    "import fxtm\n",
    "import datetime as dt"
   ]
  }
 ],
 "metadata": {
  "kernelspec": {
   "display_name": "Python 3.9.12 ('base')",
   "language": "python",
   "name": "python3"
  },
  "language_info": {
   "codemirror_mode": {
    "name": "ipython",
    "version": 3
   },
   "file_extension": ".py",
   "mimetype": "text/x-python",
   "name": "python",
   "nbconvert_exporter": "python",
   "pygments_lexer": "ipython3",
   "version": "3.9.12"
  },
  "orig_nbformat": 4,
  "vscode": {
   "interpreter": {
    "hash": "66a19ea5f20bc52e6cb3c92a7c78abc463452fe56590fefcffb22eb4ed19e131"
   }
  }
 },
 "nbformat": 4,
 "nbformat_minor": 2
}
